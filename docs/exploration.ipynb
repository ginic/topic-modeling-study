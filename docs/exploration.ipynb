{
 "metadata": {
  "language_info": {
   "codemirror_mode": {
    "name": "ipython",
    "version": 3
   },
   "file_extension": ".py",
   "mimetype": "text/x-python",
   "name": "python",
   "nbconvert_exporter": "python",
   "pygments_lexer": "ipython3",
   "version": "3.7.9"
  },
  "orig_nbformat": 2,
  "kernelspec": {
   "name": "python3",
   "display_name": "Python 3.7.9 64-bit ('topic_modeling': conda)",
   "metadata": {
    "interpreter": {
     "hash": "edc40c60d349445bffa00379afa514e23d0b91277b1f887615985d25be917523"
    }
   }
  }
 },
 "nbformat": 4,
 "nbformat_minor": 2,
 "cells": [
  {
   "source": [
    "# Exploration for corpus stats and initial topic modeling experiments"
   ],
   "cell_type": "markdown",
   "metadata": {}
  },
  {
   "cell_type": "code",
   "execution_count": 3,
   "metadata": {},
   "outputs": [],
   "source": [
    "from pathlib import Path\n",
    "\n",
    "import pandas as pd\n",
    "import seaborn as sns\n"
   ]
  },
  {
   "cell_type": "code",
   "execution_count": null,
   "metadata": {},
   "outputs": [],
   "source": [
    "CORPUS_DIR = Path('~/workspace/topic-modeling-study/russian_novels')\n",
    "DOCS_TSV = CORPUS_DIR / 'russian_novels.tsv'\n",
    "STOP_LIST = CORPUS_DIR / 'russian_novels_stopped.txt'\n"
   ]
  }
 ]
}